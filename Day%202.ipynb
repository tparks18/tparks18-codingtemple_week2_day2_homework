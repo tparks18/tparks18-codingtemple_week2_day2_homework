{
 "cells": [
  {
   "cell_type": "code",
   "execution_count": null,
   "metadata": {},
   "outputs": [],
   "source": [
    "# 1) Build a Shopping Cart\n",
    "#   Should have the following capabilities:\n",
    "#    1) Takes in input\n",
    "#    2) Stores user input into a list\n",
    "#    3) User can add or delete items\n",
    "#    4) User can see current shopping list\n",
    "#    5) Loops until user 'quits'\n",
    "#    6) Upon quiting the program, print out all items in the user's list\n",
    "\n",
    "# start with an empty dictionary to represent the shopping cart\n",
    "shopping_cart = {}\n",
    "\n",
    "# commands\n",
    "\n",
    "print(\"Shopping Cart Actions\")\n",
    "print(\"1: Add item\")\n",
    "print(\"2: Remove item\")\n",
    "print(\"3: View basket \")\n",
    "print(\"0: Stop shopping\")\n",
    "\n",
    "\n",
    "# ask what they're doing\n",
    "action = int(input(\"Enter an action: \"))\n",
    "# start the while loop\n",
    "while action != 0:\n",
    "    # what will it do for each option?\n",
    "    if action == 1:\n",
    "        # inputs\n",
    "        item = input(\"What are you getting? \")\n",
    "        quantity = int(input(\"How many items? \"))\n",
    "        # line to add the items to the cart\n",
    "        shopping_cart[item] = quantity\n",
    "    elif action == 2:\n",
    "        item = input(\"What are you deleting? \")\n",
    "        del(shopping_cart[item])\n",
    "    elif action == 3:\n",
    "        print(shopping_cart)\n",
    "    elif action != 0:\n",
    "        print(\"Please select a valid action!\")\n",
    "        # go back to the beginning\n",
    "    action = int(input(\"Enter an action: \"))\n",
    "    # terminate program\n",
    "else:\n",
    "    print(\"You are ready for checkout.\")\n",
    "\n"
   ]
  }
 ],
 "metadata": {
  "kernelspec": {
   "display_name": "Python 3",
   "language": "python",
   "name": "python3"
  },
  "language_info": {
   "codemirror_mode": {
    "name": "ipython",
    "version": 3
   },
   "file_extension": ".py",
   "mimetype": "text/x-python",
   "name": "python",
   "nbconvert_exporter": "python",
   "pygments_lexer": "ipython3",
   "version": "3.8.3"
  }
 },
 "nbformat": 4,
 "nbformat_minor": 4
}
